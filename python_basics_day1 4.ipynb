{
  "nbformat": 4,
  "nbformat_minor": 0,
  "metadata": {
    "colab": {
      "provenance": []
    },
    "kernelspec": {
      "name": "python3",
      "display_name": "Python 3"
    },
    "language_info": {
      "name": "python"
    }
  },
  "cells": [
    {
      "cell_type": "code",
      "execution_count": null,
      "metadata": {
        "id": "fooBKl8FmcO4"
      },
      "outputs": [],
      "source": [
        "prit(\"welcome to Python world\")"
      ]
    },
    {
      "cell_type": "code",
      "source": [
        "my_list = [['tiger', 'lion', 'leopard'], ['came', 'llama', 'alpaca'], ['zebra', 'donkey', 'wildebeest']]\n",
        "\n",
        "for x in my_list:\n",
        "    print(x)"
      ],
      "metadata": {
        "id": "mipK9VbV8umJ",
        "outputId": "0cca1130-ee71-4268-d549-d3ba2f8fbc2e",
        "colab": {
          "base_uri": "https://localhost:8080/"
        }
      },
      "execution_count": 3,
      "outputs": [
        {
          "output_type": "stream",
          "name": "stdout",
          "text": [
            "['tiger', 'lion', 'leopard']\n",
            "['came', 'llama', 'alpaca']\n",
            "['zebra', 'donkey', 'wildebeest']\n"
          ]
        }
      ]
    },
    {
      "cell_type": "code",
      "source": [
        "print(\"radhika\")"
      ],
      "metadata": {
        "id": "EIcFCol4oS9y"
      },
      "execution_count": null,
      "outputs": []
    },
    {
      "cell_type": "code",
      "source": [
        "a=10\n",
        "print(a)\n",
        "print(\"a=\", id(a))\n",
        "a=\"ajju\"\n",
        "print(a)\n",
        "print(id(a))\n",
        "\n",
        "#delete variable\n",
        "\n",
        "a=40\n",
        "print(a)\n",
        "\n",
        "del a\n"
      ],
      "metadata": {
        "id": "456iibnZml4b"
      },
      "execution_count": null,
      "outputs": []
    },
    {
      "cell_type": "code",
      "source": [
        "#anotation\n",
        "a:int = 10\n",
        "print(a)\n",
        "print(__annotations__['a'])"
      ],
      "metadata": {
        "id": "EyYtE0f-_zVO"
      },
      "execution_count": null,
      "outputs": []
    },
    {
      "cell_type": "code",
      "source": [],
      "metadata": {
        "id": "9H2a5PWVCA_N"
      },
      "execution_count": null,
      "outputs": []
    },
    {
      "cell_type": "code",
      "source": [
        "#string slicing #positive indexing\n",
        "s=\"bangalore\"\n",
        "print(s[::])"
      ],
      "metadata": {
        "id": "GC8iQJN6N9eh"
      },
      "execution_count": null,
      "outputs": []
    },
    {
      "cell_type": "code",
      "source": [
        "#negative indexing add +1 ie., -1:-3:0 and -1:-7:-1\n",
        "s=\"bangalore\"\n",
        "print(s[-1:-4:-1])\n",
        "print(s[-1:-8:-2])\n",
        "print(s[-2:-6:2])#positive indexing left to right starts frm -2 so no o/p  #positive indexing left to right for 2 and 3 parameter subtract -1\n",
        "print(s[-1::-1])"
      ],
      "metadata": {
        "id": "y-KQyw97SutA"
      },
      "execution_count": null,
      "outputs": []
    },
    {
      "cell_type": "code",
      "source": [],
      "metadata": {
        "id": "IMFCMJEniNax"
      },
      "execution_count": null,
      "outputs": []
    },
    {
      "cell_type": "code",
      "source": [
        "string=\"Hello,world!\"\n",
        "print(string[7:12])\n",
        "print(string[-6:-1])"
      ],
      "metadata": {
        "id": "1q1w6s_7V18Q"
      },
      "execution_count": null,
      "outputs": []
    },
    {
      "cell_type": "code",
      "source": [
        "string = \"Python is fun!\"\n",
        "print(string[-1:-7:-2])"
      ],
      "metadata": {
        "id": "D36GDV6DiOGx"
      },
      "execution_count": null,
      "outputs": []
    },
    {
      "cell_type": "code",
      "source": [
        "#decision making-- day 3\n",
        "#simple if\n",
        "\n",
        "if 1>5:\n",
        "  print(\"10 is greater than 5\")\n",
        "print(\"outside if block\")\n"
      ],
      "metadata": {
        "id": "fucEl3ZpnAXe"
      },
      "execution_count": null,
      "outputs": []
    },
    {
      "cell_type": "code",
      "source": [
        "#input stmt\n",
        "name=input(\"enter ur name\")\n",
        "print(\"ur name is\", name)\n"
      ],
      "metadata": {
        "id": "U4RLiwd9pTL9"
      },
      "execution_count": null,
      "outputs": []
    },
    {
      "cell_type": "code",
      "source": [
        "n1=int(input(\"enter ur 1 number\"))\n",
        "n2=int(input(\"enter ur 2 number\"))\n",
        "#print(n1+n2)\n",
        "if (n1>n2):\n",
        "  print(\"n1 is greater\")"
      ],
      "metadata": {
        "id": "Oq-J6zM_qDqx"
      },
      "execution_count": null,
      "outputs": []
    },
    {
      "cell_type": "code",
      "source": [
        "age=\n",
        "int(input(\"enter ur age\"))\n",
        "if age >= 18 :\n",
        "  print(\"welcome to vote\")\n",
        "  print(\"you can vote\")\n",
        "else:\n",
        "  print(\"you cannot vote\")\n",
        "print(\"thank u\")#\n",
        "\n",
        "marks=int(input(\"enter your marks\"))\n",
        "if marks >=35 :\n",
        "  print(\"you are passed\")\n",
        "else:\n",
        "  print(\"you are fail\")\n",
        "print(\"thank you\")"
      ],
      "metadata": {
        "id": "jWjKOtrLrtA_"
      },
      "execution_count": null,
      "outputs": []
    },
    {
      "cell_type": "markdown",
      "source": [],
      "metadata": {
        "id": "k7KAG9Nu02Jl"
      }
    },
    {
      "cell_type": "markdown",
      "source": [],
      "metadata": {
        "id": "Fmx6Cg7v05Dk"
      }
    },
    {
      "cell_type": "markdown",
      "source": [],
      "metadata": {
        "id": "-h7AQ3_u05aP"
      }
    },
    {
      "cell_type": "code",
      "source": [],
      "metadata": {
        "id": "JAGHioh52c60"
      },
      "execution_count": null,
      "outputs": []
    },
    {
      "cell_type": "code",
      "source": [],
      "metadata": {
        "id": "US9-YOEy2dzK"
      },
      "execution_count": null,
      "outputs": []
    },
    {
      "cell_type": "code",
      "source": [
        "#if elif else\n",
        "grade = int(input(\"enter your score\"))\n",
        "if  grade >= 90:\n",
        "  print(\"A grade\")\n",
        "elif grade >= 80:\n",
        "  print(\"B grade\")\n",
        "elif grade >= 50:\n",
        "  print(\"c grade\")\n",
        "\n",
        "else :\n",
        "  print(\"fail\")"
      ],
      "metadata": {
        "id": "tTKj149Ou5qQ"
      },
      "execution_count": null,
      "outputs": []
    },
    {
      "cell_type": "code",
      "source": [
        "#nested if\n",
        "num= int(input(\"enter ur number\"))\n",
        "\n",
        "if num> 0:\n",
        "  print(\"number is positive number\")\n",
        "  if num%2==0 :\n",
        "    print(\"number is even\")\n",
        "  else:\n",
        "    print(\"number is odd\")\n",
        "\n",
        "else:\n",
        "  print(\"number is negative\")"
      ],
      "metadata": {
        "id": "q3OBQ-c90G0o"
      },
      "execution_count": null,
      "outputs": []
    },
    {
      "cell_type": "code",
      "source": [
        "#while loop\n",
        "i = 2\n",
        "while i<=5:\n",
        "  print(i)\n",
        "  i=i+1\n"
      ],
      "metadata": {
        "id": "c7tVygXp2e-N"
      },
      "execution_count": null,
      "outputs": []
    },
    {
      "cell_type": "code",
      "source": [
        "#multiplicatoon\n",
        "num = int(input(\"enter the table number\"))\n",
        "i = 1\n",
        "while i<=10:\n",
        "  print(i*num)\n",
        "  i=i+1\n"
      ],
      "metadata": {
        "id": "7JZ9BtT83B6t"
      },
      "execution_count": null,
      "outputs": []
    },
    {
      "cell_type": "code",
      "source": [
        "#for loop\n",
        "for i in \"Radikaiiii\":\n",
        "  print(\"hihi\")\n",
        "\n",
        "for i in [10,20,40]:\n",
        "  print(i*3)\n"
      ],
      "metadata": {
        "id": "mMWCF2aF5myc"
      },
      "execution_count": null,
      "outputs": []
    },
    {
      "cell_type": "code",
      "source": [
        "from typing import Counter\n",
        "v=['a','e','i','o','u']\n",
        "string=input(\"enter your string:\")\n",
        "counter= 0\n",
        "\n",
        "for i in string:\n",
        "  if i in v:\n",
        "    counter = counter +1\n",
        "print(counter)"
      ],
      "metadata": {
        "id": "BEnC9tYw6kZO"
      },
      "execution_count": null,
      "outputs": []
    },
    {
      "cell_type": "code",
      "source": [
        "#reverse string using slicing\n",
        "#palindrome"
      ],
      "metadata": {
        "id": "r1R3WIKV79bp"
      },
      "execution_count": null,
      "outputs": []
    },
    {
      "cell_type": "code",
      "source": [
        "s = \"malayalam\"\n",
        "print(s[::-1])\n"
      ],
      "metadata": {
        "id": "rfTuNe3jpOkT"
      },
      "execution_count": null,
      "outputs": []
    },
    {
      "cell_type": "code",
      "source": [
        "string=(input(\"enter any word and check whether it is palindrome or not\"))\n",
        "print(string[::-1])"
      ],
      "metadata": {
        "id": "EBgd7ZdtpyBp"
      },
      "execution_count": null,
      "outputs": []
    },
    {
      "cell_type": "code",
      "source": [
        "s=input(\"enter any string\")\n",
        "if s==s[::-1]:\n",
        "  print(\"yes!it is palindrome\")\n",
        "else:\n",
        "  print(\"no\")"
      ],
      "metadata": {
        "id": "V-DnnmHwrJUP"
      },
      "execution_count": null,
      "outputs": []
    },
    {
      "cell_type": "code",
      "source": [
        "#split() count\n",
        "s=\"i+live_in+blr\"\n",
        "s.split('+' , 2)"
      ],
      "metadata": {
        "id": "Z1I9kRZEzk_t"
      },
      "execution_count": null,
      "outputs": []
    },
    {
      "cell_type": "code",
      "source": [
        "#datastructers\n",
        "#1.list\n",
        "#2tuple\n",
        "#3 dict\n",
        "#4. set"
      ],
      "metadata": {
        "id": "wvoAnQiP29CM"
      },
      "execution_count": null,
      "outputs": []
    },
    {
      "cell_type": "code",
      "source": [
        "#list\n",
        "l=[10,20,30,1.2,'AJJU']\n",
        "print(l)\n",
        "print(type(l))"
      ],
      "metadata": {
        "id": "Bb4YPWFT8Hfj"
      },
      "execution_count": null,
      "outputs": []
    },
    {
      "cell_type": "code",
      "source": [
        "#list indexing\n",
        "l1=[10,20,40,5.6,[1,2,3],\"ajju\"]\n",
        "print(l1[2])\n",
        "print(l1[-2])\n",
        "print(l1[4][0])\n"
      ],
      "metadata": {
        "id": "9P5pcjX5-oEJ"
      },
      "execution_count": null,
      "outputs": []
    },
    {
      "cell_type": "code",
      "source": [
        "#list slicing\n",
        "l1=[10,20,40,5.6,[1,2,3],\"ajju\"]\n",
        "print(l1[::])"
      ],
      "metadata": {
        "id": "m_niwmqW_fVz"
      },
      "execution_count": null,
      "outputs": []
    },
    {
      "cell_type": "code",
      "source": [
        "#concatination of lists\n",
        "l1=[2,3,4]\n",
        "l2=[4,5,6]\n",
        "l3=l1+l2\n",
        "print(l3)"
      ],
      "metadata": {
        "id": "GHUfodHOAvqp"
      },
      "execution_count": null,
      "outputs": []
    },
    {
      "cell_type": "code",
      "source": [
        "#mul list\n",
        "l1=[10,20,30]\n",
        "print(l1*2)\n",
        "\n"
      ],
      "metadata": {
        "id": "JmmBl8s1DiUA"
      },
      "execution_count": null,
      "outputs": []
    },
    {
      "cell_type": "code",
      "source": [
        "#list iteration\n",
        "l1=[10,20,30]\n",
        "for i in l1:\n",
        "  print(i+1)"
      ],
      "metadata": {
        "id": "o8xzZi4SECj9"
      },
      "execution_count": null,
      "outputs": []
    },
    {
      "cell_type": "code",
      "source": [
        "# list membership\n",
        "l1=[10,6,7]\n",
        "print(10 in l1)"
      ],
      "metadata": {
        "id": "rggy6II_EZ4v"
      },
      "execution_count": null,
      "outputs": []
    },
    {
      "cell_type": "code",
      "source": [
        "#list del\n",
        "l1=[10,20,50]\n",
        "print(l1)\n",
        "del(l1[1])\n",
        "print(l1)"
      ],
      "metadata": {
        "id": "Rubz80b_E102"
      },
      "execution_count": null,
      "outputs": []
    },
    {
      "cell_type": "code",
      "source": [
        "#max element list\n",
        "\n",
        "l1=[10,20,30]\n",
        "print(max(l1))\n",
        "\n",
        "l2=[\"apple\",\"adhiiii\",\"aj\"]\n",
        "print(max(l2, key=len))"
      ],
      "metadata": {
        "id": "6VH-yvFdHA8O"
      },
      "execution_count": null,
      "outputs": []
    },
    {
      "cell_type": "code",
      "source": [
        "#min ele list\n",
        "\n"
      ],
      "metadata": {
        "id": "EB78sN2ZKXpX"
      },
      "execution_count": null,
      "outputs": []
    },
    {
      "cell_type": "code",
      "source": [
        "#max element list\n",
        "\n",
        "l1=[6,10,20,30]\n",
        "print(min(l1))\n",
        "\n"
      ],
      "metadata": {
        "id": "kGlv4XiPKgJN"
      },
      "execution_count": null,
      "outputs": []
    },
    {
      "cell_type": "code",
      "source": [
        "#append method\n",
        "l1=[10,20,30]\n",
        "l1.append(1.23)\n",
        "print(l1)"
      ],
      "metadata": {
        "id": "NQ8pn4z3K48b"
      },
      "execution_count": null,
      "outputs": []
    },
    {
      "cell_type": "code",
      "source": [
        "#dictionary\n",
        "dict1={\"pp\":\"al\", \"qq\":\"radhi\"}\n",
        "print(dict1)\n",
        "print(type(dict1))\n",
        "\n",
        "#access the dict\n",
        "print(dict1[\"pp\"])\n"
      ],
      "metadata": {
        "id": "7klgjDY82hKK"
      },
      "execution_count": null,
      "outputs": []
    },
    {
      "cell_type": "code",
      "source": [
        "dict1={9882:[\"radhi\", 22, \"hh hyd\"], 9881:(\"ajju\",44, \"mum\")}\n",
        "print(dict1)\n",
        "dict1[9883]=\"krish\" #adding new key -pair\n",
        "print(dict1)"
      ],
      "metadata": {
        "id": "YdMVD6nv4mUK"
      },
      "execution_count": null,
      "outputs": []
    },
    {
      "cell_type": "code",
      "source": [
        "#dict del key\n",
        "dict1={9882:[\"radhi\", 22, \"hh hyd\"], 9881:(\"ajju\",44, \"mum\")}\n",
        "print(dict1)\n",
        "del dict1[9882]\n",
        "print(dict1)\n",
        "#value = dict1.pop(9881) #pop - returns the del value\n",
        "#print(value)\n",
        "#print(dict1)"
      ],
      "metadata": {
        "id": "d_kGWD956Lwq"
      },
      "execution_count": null,
      "outputs": []
    },
    {
      "cell_type": "code",
      "source": [
        "#Set\n",
        "s1={10,20,30,79}\n",
        "print(s1)\n",
        "print(type(s1))"
      ],
      "metadata": {
        "id": "8LpXUOVQ-tqC"
      },
      "execution_count": null,
      "outputs": []
    },
    {
      "cell_type": "code",
      "source": [],
      "metadata": {
        "id": "_yEQockK6LdO"
      },
      "execution_count": null,
      "outputs": []
    },
    {
      "cell_type": "code",
      "source": [
        "#set const\n",
        "s2=set(\"radh ika\")\n",
        "print(s2)\n",
        "print(type(s2))"
      ],
      "metadata": {
        "id": "VXBkV5tgArl4"
      },
      "execution_count": null,
      "outputs": []
    },
    {
      "cell_type": "code",
      "source": [
        "#set\n",
        "s={10,20,30}\n",
        "s.add(7)\n",
        "\n",
        "s.update([67,98])\n",
        "print(s)\n"
      ],
      "metadata": {
        "id": "__n8WjWtEW3v"
      },
      "execution_count": null,
      "outputs": []
    },
    {
      "cell_type": "code",
      "source": [
        "#remove\n",
        "s={19,59,54}\n",
        "s.remove(19)\n",
        "\n",
        "print(s)"
      ],
      "metadata": {
        "id": "tlwK-P_kFJi7"
      },
      "execution_count": null,
      "outputs": []
    },
    {
      "cell_type": "code",
      "source": [
        "#discard\n",
        "s={56,86,98}\n",
        "print(s.discard(777))\n",
        "print(s)"
      ],
      "metadata": {
        "id": "GC1djpX8FoxZ"
      },
      "execution_count": null,
      "outputs": []
    },
    {
      "cell_type": "code",
      "source": [
        "#pop\n",
        "s={56,86,98}\n",
        "print(s.pop())\n",
        "print(s)"
      ],
      "metadata": {
        "id": "c5oGM0LGGUDG"
      },
      "execution_count": null,
      "outputs": []
    },
    {
      "cell_type": "code",
      "source": [
        "l1=[10,25,36,10,25,81]\n",
        "uniquelist=[]\n",
        "for i in l1:\n",
        "  if i not in uniquelist:\n",
        "    uniquelist.append(i)\n",
        "\n",
        "print(uniquelist)"
      ],
      "metadata": {
        "id": "GCIUbqgcXz2Q"
      },
      "execution_count": null,
      "outputs": []
    },
    {
      "cell_type": "code",
      "source": [
        "# second largest numver\n",
        "l1=[10, 20, 30, 40,59]\n",
        "firsthighestnumber = max(l1)\n",
        "print(firsthighestnumber)\n",
        "l1.remove(59)\n",
        "print(l1)\n",
        "secondlargest=max(l1)\n",
        "print(secondlargest)"
      ],
      "metadata": {
        "id": "U942oWfPbzNY"
      },
      "execution_count": null,
      "outputs": []
    },
    {
      "cell_type": "code",
      "source": [
        "#program to get occrance of numbers in list\n",
        "l1=[2,3,4,5,6,6]\n",
        "l2=[]\n",
        "for i in l1:\n",
        "  if i not in l2:\n",
        "    l2.append(i)\n",
        "    print(i,\"occurs\" , l1.count(i),\"times\")"
      ],
      "metadata": {
        "id": "JVRJv-2AEXIO"
      },
      "execution_count": null,
      "outputs": []
    },
    {
      "cell_type": "code",
      "source": [
        "#tuple\n",
        "t1=(10,20,30,50,60)\n",
        "print(t1)\n",
        "print(type(t1))"
      ],
      "metadata": {
        "id": "ZZSBnSjiL2F7"
      },
      "execution_count": null,
      "outputs": []
    },
    {
      "cell_type": "code",
      "source": [
        "#tuple creation using constructor\n",
        "l1=[30,40]\n",
        "t1=tuple(l1)\n",
        "print(t1)\n",
        "print(type(t1))\n",
        "print(l1)"
      ],
      "metadata": {
        "id": "0_dpGgV_M30O"
      },
      "execution_count": null,
      "outputs": []
    },
    {
      "cell_type": "code",
      "source": [
        "#tuple indexing\n",
        "t1=(10,30,\"radhi\",89)\n",
        "print(t1[2])"
      ],
      "metadata": {
        "id": "ChgI7fl0chIs"
      },
      "execution_count": null,
      "outputs": []
    },
    {
      "cell_type": "code",
      "source": [
        "#concatination\n",
        "t1=(18,56,78)\n",
        "new =t1+(5,8)\n",
        "print(new)"
      ],
      "metadata": {
        "id": "xISk1qb8dOMo"
      },
      "execution_count": null,
      "outputs": []
    },
    {
      "cell_type": "code",
      "source": [
        "num = int(input(\"Enter a number: \"))\n",
        "factorial = 1\n",
        "for i in range(1, num + 1):\n",
        "    factorial *= i\n",
        "print(\"The factorial of\", num, \"is\", factorial)\n"
      ],
      "metadata": {
        "id": "d3_XckX2CDYF"
      },
      "execution_count": null,
      "outputs": []
    },
    {
      "cell_type": "code",
      "source": [
        "from pathlib import PureWindowsPath\n",
        "def cal():\n",
        "  print(\"select opeartion\")\n",
        "  print(\" 1 for add\")\n",
        "  print(\"2: sub\")\n",
        "  print(\"3 : mul\")\n",
        "  print(\"4:div\")\n",
        "  choice=input(\"enter 1/2/3/4:\")\n",
        "  num1=int(input(\"enter the first num\"))\n",
        "  num2=int(input(\"enter the sec num\"))\n",
        "  if choice=='1':\n",
        "    print(num1+num2)\n",
        "  elif choice=='2':\n",
        "    print(num1-num2)\n",
        "  elif choice=='3':\n",
        "    print(num1/num2)\n",
        "    if num2 !=0:\n",
        "      print(num1/num2)\n",
        "    else:\n",
        "      print(\"cannot be divide\")\n",
        "  else:\n",
        "     PureWindowsPath(\"invalid i/p\")\n",
        "cal()\n",
        "\n"
      ],
      "metadata": {
        "id": "Nce-VnuBD1Se",
        "outputId": "2f7d962d-b390-4c36-946e-164f02917f1e",
        "colab": {
          "base_uri": "https://localhost:8080/"
        }
      },
      "execution_count": null,
      "outputs": [
        {
          "output_type": "stream",
          "name": "stdout",
          "text": [
            "select opeartion\n",
            " 1 for add\n",
            "2: sub\n",
            "3 : mul\n",
            "4:div\n",
            "enter 1/2/3/4:2\n",
            "enter the first num2\n",
            "enter the sec num3\n",
            "-1\n"
          ]
        }
      ]
    },
    {
      "cell_type": "code",
      "source": [
        "string = input(\"Enter a string: \")\n",
        "vowels = \"aeiouAEIOU\"\n",
        "count = sum(1 for char in string if char in vowels)\n",
        "print(f\"Number of vowels in the string: {count}\")\n"
      ],
      "metadata": {
        "id": "WwDnuUtSOmqi",
        "outputId": "f0bc583f-9035-4c84-f300-a6d36d57ed52",
        "colab": {
          "base_uri": "https://localhost:8080/",
          "height": 339
        }
      },
      "execution_count": null,
      "outputs": [
        {
          "output_type": "error",
          "ename": "KeyboardInterrupt",
          "evalue": "Interrupted by user",
          "traceback": [
            "\u001b[0;31m---------------------------------------------------------------------------\u001b[0m",
            "\u001b[0;31mKeyboardInterrupt\u001b[0m                         Traceback (most recent call last)",
            "\u001b[0;32m<ipython-input-11-854535cabbcf>\u001b[0m in \u001b[0;36m<cell line: 0>\u001b[0;34m()\u001b[0m\n\u001b[0;32m----> 1\u001b[0;31m \u001b[0mstring\u001b[0m \u001b[0;34m=\u001b[0m \u001b[0minput\u001b[0m\u001b[0;34m(\u001b[0m\u001b[0;34m\"Enter a string: \"\u001b[0m\u001b[0;34m)\u001b[0m\u001b[0;34m\u001b[0m\u001b[0;34m\u001b[0m\u001b[0m\n\u001b[0m\u001b[1;32m      2\u001b[0m \u001b[0mvowels\u001b[0m \u001b[0;34m=\u001b[0m \u001b[0;34m\"aeiouAEIOU\"\u001b[0m\u001b[0;34m\u001b[0m\u001b[0;34m\u001b[0m\u001b[0m\n\u001b[1;32m      3\u001b[0m \u001b[0mcount\u001b[0m \u001b[0;34m=\u001b[0m \u001b[0msum\u001b[0m\u001b[0;34m(\u001b[0m\u001b[0;36m1\u001b[0m \u001b[0;32mfor\u001b[0m \u001b[0mchar\u001b[0m \u001b[0;32min\u001b[0m \u001b[0mstring\u001b[0m \u001b[0;32mif\u001b[0m \u001b[0mchar\u001b[0m \u001b[0;32min\u001b[0m \u001b[0mvowels\u001b[0m\u001b[0;34m)\u001b[0m\u001b[0;34m\u001b[0m\u001b[0;34m\u001b[0m\u001b[0m\n\u001b[1;32m      4\u001b[0m \u001b[0mprint\u001b[0m\u001b[0;34m(\u001b[0m\u001b[0;34mf\"Number of vowels in the string: {count}\"\u001b[0m\u001b[0;34m)\u001b[0m\u001b[0;34m\u001b[0m\u001b[0;34m\u001b[0m\u001b[0m\n",
            "\u001b[0;32m/usr/local/lib/python3.11/dist-packages/ipykernel/kernelbase.py\u001b[0m in \u001b[0;36mraw_input\u001b[0;34m(self, prompt)\u001b[0m\n\u001b[1;32m   1175\u001b[0m                 \u001b[0;34m\"raw_input was called, but this frontend does not support input requests.\"\u001b[0m\u001b[0;34m\u001b[0m\u001b[0;34m\u001b[0m\u001b[0m\n\u001b[1;32m   1176\u001b[0m             )\n\u001b[0;32m-> 1177\u001b[0;31m         return self._input_request(\n\u001b[0m\u001b[1;32m   1178\u001b[0m             \u001b[0mstr\u001b[0m\u001b[0;34m(\u001b[0m\u001b[0mprompt\u001b[0m\u001b[0;34m)\u001b[0m\u001b[0;34m,\u001b[0m\u001b[0;34m\u001b[0m\u001b[0;34m\u001b[0m\u001b[0m\n\u001b[1;32m   1179\u001b[0m             \u001b[0mself\u001b[0m\u001b[0;34m.\u001b[0m\u001b[0m_parent_ident\u001b[0m\u001b[0;34m[\u001b[0m\u001b[0;34m\"shell\"\u001b[0m\u001b[0;34m]\u001b[0m\u001b[0;34m,\u001b[0m\u001b[0;34m\u001b[0m\u001b[0;34m\u001b[0m\u001b[0m\n",
            "\u001b[0;32m/usr/local/lib/python3.11/dist-packages/ipykernel/kernelbase.py\u001b[0m in \u001b[0;36m_input_request\u001b[0;34m(self, prompt, ident, parent, password)\u001b[0m\n\u001b[1;32m   1217\u001b[0m             \u001b[0;32mexcept\u001b[0m \u001b[0mKeyboardInterrupt\u001b[0m\u001b[0;34m:\u001b[0m\u001b[0;34m\u001b[0m\u001b[0;34m\u001b[0m\u001b[0m\n\u001b[1;32m   1218\u001b[0m                 \u001b[0;31m# re-raise KeyboardInterrupt, to truncate traceback\u001b[0m\u001b[0;34m\u001b[0m\u001b[0;34m\u001b[0m\u001b[0m\n\u001b[0;32m-> 1219\u001b[0;31m                 \u001b[0;32mraise\u001b[0m \u001b[0mKeyboardInterrupt\u001b[0m\u001b[0;34m(\u001b[0m\u001b[0;34m\"Interrupted by user\"\u001b[0m\u001b[0;34m)\u001b[0m \u001b[0;32mfrom\u001b[0m \u001b[0;32mNone\u001b[0m\u001b[0;34m\u001b[0m\u001b[0;34m\u001b[0m\u001b[0m\n\u001b[0m\u001b[1;32m   1220\u001b[0m             \u001b[0;32mexcept\u001b[0m \u001b[0mException\u001b[0m\u001b[0;34m:\u001b[0m\u001b[0;34m\u001b[0m\u001b[0;34m\u001b[0m\u001b[0m\n\u001b[1;32m   1221\u001b[0m                 \u001b[0mself\u001b[0m\u001b[0;34m.\u001b[0m\u001b[0mlog\u001b[0m\u001b[0;34m.\u001b[0m\u001b[0mwarning\u001b[0m\u001b[0;34m(\u001b[0m\u001b[0;34m\"Invalid Message:\"\u001b[0m\u001b[0;34m,\u001b[0m \u001b[0mexc_info\u001b[0m\u001b[0;34m=\u001b[0m\u001b[0;32mTrue\u001b[0m\u001b[0;34m)\u001b[0m\u001b[0;34m\u001b[0m\u001b[0;34m\u001b[0m\u001b[0m\n",
            "\u001b[0;31mKeyboardInterrupt\u001b[0m: Interrupted by user"
          ]
        }
      ]
    },
    {
      "cell_type": "code",
      "source": [],
      "metadata": {
        "id": "XXvoX2UDD07m"
      },
      "execution_count": null,
      "outputs": []
    },
    {
      "cell_type": "code",
      "source": [
        "principal = float(input(\"Enter principal amount: \"))\n",
        "rate = float(input(\"Enter annual interest rate (in %): \"))\n",
        "time = float(input(\"Enter time (in years): \"))\n",
        "\n",
        "simple_interest = (principal * rate * time) / 100\n",
        "print(\"Simple Interest is:\", simple_interest)\n"
      ],
      "metadata": {
        "id": "HtkjIhGIZnH-",
        "outputId": "d42c6453-6e13-409d-9123-65b5fec3098e",
        "colab": {
          "base_uri": "https://localhost:8080/"
        }
      },
      "execution_count": null,
      "outputs": [
        {
          "output_type": "stream",
          "name": "stdout",
          "text": [
            "Enter principal amount: 1000\n",
            "Enter annual interest rate (in %): 2\n",
            "Enter time (in years): 2\n",
            "Simple Interest is: 40.0\n"
          ]
        }
      ]
    }
  ]
}