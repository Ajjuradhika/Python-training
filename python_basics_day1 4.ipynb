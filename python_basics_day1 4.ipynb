{
  "nbformat": 4,
  "nbformat_minor": 0,
  "metadata": {
    "colab": {
      "provenance": []
    },
    "kernelspec": {
      "name": "python3",
      "display_name": "Python 3"
    },
    "language_info": {
      "name": "python"
    }
  },
  "cells": [
    {
      "cell_type": "code",
      "execution_count": null,
      "metadata": {
        "id": "fooBKl8FmcO4"
      },
      "outputs": [],
      "source": [
        "prit(\"welcome to Python world\")"
      ]
    },
    {
      "cell_type": "code",
      "source": [
        "my_list = [['tiger', 'lion', 'leopard'], ['came', 'llama', 'alpaca'], ['zebra', 'donkey', 'wildebeest']]\n",
        "\n",
        "for x in my_list:\n",
        "    print(x)"
      ],
      "metadata": {
        "id": "mipK9VbV8umJ"
      },
      "execution_count": null,
      "outputs": []
    },
    {
      "cell_type": "code",
      "source": [
        "print(\"radhika\")"
      ],
      "metadata": {
        "id": "EIcFCol4oS9y"
      },
      "execution_count": null,
      "outputs": []
    },
    {
      "cell_type": "code",
      "source": [
        "a=10\n",
        "print(a)\n",
        "print(\"a=\", id(a))\n",
        "a=\"ajju\"\n",
        "print(a)\n",
        "print(id(a))\n",
        "\n",
        "#delete variable\n",
        "\n",
        "a=40\n",
        "print(a)\n",
        "\n",
        "del a\n"
      ],
      "metadata": {
        "id": "456iibnZml4b"
      },
      "execution_count": null,
      "outputs": []
    },
    {
      "cell_type": "code",
      "source": [
        "#anotation\n",
        "a:int = 10\n",
        "print(a)\n",
        "print(__annotations__['a'])"
      ],
      "metadata": {
        "id": "EyYtE0f-_zVO"
      },
      "execution_count": null,
      "outputs": []
    },
    {
      "cell_type": "code",
      "source": [],
      "metadata": {
        "id": "9H2a5PWVCA_N"
      },
      "execution_count": null,
      "outputs": []
    },
    {
      "cell_type": "code",
      "source": [
        "#string slicing #positive indexing\n",
        "s=\"bangalore\"\n",
        "print(s[::])"
      ],
      "metadata": {
        "id": "GC8iQJN6N9eh"
      },
      "execution_count": null,
      "outputs": []
    },
    {
      "cell_type": "code",
      "source": [
        "#negative indexing add +1 ie., -1:-3:0 and -1:-7:-1\n",
        "s=\"bangalore\"\n",
        "print(s[-1:-4:-1])\n",
        "print(s[-1:-8:-2])\n",
        "print(s[-2:-6:2])#positive indexing left to right starts frm -2 so no o/p  #positive indexing left to right for 2 and 3 parameter subtract -1\n",
        "print(s[-1::-1])"
      ],
      "metadata": {
        "id": "y-KQyw97SutA"
      },
      "execution_count": null,
      "outputs": []
    },
    {
      "cell_type": "code",
      "source": [],
      "metadata": {
        "id": "IMFCMJEniNax"
      },
      "execution_count": null,
      "outputs": []
    },
    {
      "cell_type": "code",
      "source": [
        "string=\"Hello,world!\"\n",
        "print(string[7:12])\n",
        "print(string[-6:-1])"
      ],
      "metadata": {
        "id": "1q1w6s_7V18Q"
      },
      "execution_count": null,
      "outputs": []
    },
    {
      "cell_type": "code",
      "source": [
        "string = \"Python is fun!\"\n",
        "print(string[-1:-7:-2])"
      ],
      "metadata": {
        "id": "D36GDV6DiOGx"
      },
      "execution_count": null,
      "outputs": []
    },
    {
      "cell_type": "code",
      "source": [
        "#decision making-- day 3\n",
        "#simple if\n",
        "\n",
        "if 1>5:\n",
        "  print(\"10 is greater than 5\")\n",
        "print(\"outside if block\")\n"
      ],
      "metadata": {
        "id": "fucEl3ZpnAXe"
      },
      "execution_count": null,
      "outputs": []
    },
    {
      "cell_type": "code",
      "source": [
        "#input stmt\n",
        "name=input(\"enter ur name\")\n",
        "print(\"ur name is\", name)\n"
      ],
      "metadata": {
        "id": "U4RLiwd9pTL9"
      },
      "execution_count": null,
      "outputs": []
    },
    {
      "cell_type": "code",
      "source": [
        "n1=int(input(\"enter ur 1 number\"))\n",
        "n2=int(input(\"enter ur 2 number\"))\n",
        "#print(n1+n2)\n",
        "if (n1>n2):\n",
        "  print(\"n1 is greater\")"
      ],
      "metadata": {
        "id": "Oq-J6zM_qDqx"
      },
      "execution_count": null,
      "outputs": []
    },
    {
      "cell_type": "code",
      "source": [
        "age=\n",
        "int(input(\"enter ur age\"))\n",
        "if age >= 18 :\n",
        "  print(\"welcome to vote\")\n",
        "  print(\"you can vote\")\n",
        "else:\n",
        "  print(\"you cannot vote\")\n",
        "print(\"thank u\")#\n",
        "\n",
        "marks=int(input(\"enter your marks\"))\n",
        "if marks >=35 :\n",
        "  print(\"you are passed\")\n",
        "else:\n",
        "  print(\"you are fail\")\n",
        "print(\"thank you\")"
      ],
      "metadata": {
        "id": "jWjKOtrLrtA_"
      },
      "execution_count": null,
      "outputs": []
    },
    {
      "cell_type": "markdown",
      "source": [],
      "metadata": {
        "id": "k7KAG9Nu02Jl"
      }
    },
    {
      "cell_type": "markdown",
      "source": [],
      "metadata": {
        "id": "Fmx6Cg7v05Dk"
      }
    },
    {
      "cell_type": "markdown",
      "source": [],
      "metadata": {
        "id": "-h7AQ3_u05aP"
      }
    },
    {
      "cell_type": "code",
      "source": [],
      "metadata": {
        "id": "JAGHioh52c60"
      },
      "execution_count": null,
      "outputs": []
    },
    {
      "cell_type": "code",
      "source": [],
      "metadata": {
        "id": "US9-YOEy2dzK"
      },
      "execution_count": null,
      "outputs": []
    },
    {
      "cell_type": "code",
      "source": [
        "#if elif else\n",
        "grade = int(input(\"enter your score\"))\n",
        "if  grade >= 90:\n",
        "  print(\"A grade\")\n",
        "elif grade >= 80:\n",
        "  print(\"B grade\")\n",
        "elif grade >= 50:\n",
        "  print(\"c grade\")\n",
        "\n",
        "else :\n",
        "  print(\"fail\")"
      ],
      "metadata": {
        "id": "tTKj149Ou5qQ"
      },
      "execution_count": null,
      "outputs": []
    },
    {
      "cell_type": "code",
      "source": [
        "#nested if\n",
        "num= int(input(\"enter ur number\"))\n",
        "\n",
        "if num> 0:\n",
        "  print(\"number is positive number\")\n",
        "  if num%2==0 :\n",
        "    print(\"number is even\")\n",
        "  else:\n",
        "    print(\"number is odd\")\n",
        "\n",
        "else:\n",
        "  print(\"number is negative\")"
      ],
      "metadata": {
        "id": "q3OBQ-c90G0o"
      },
      "execution_count": null,
      "outputs": []
    },
    {
      "cell_type": "code",
      "source": [
        "#while loop\n",
        "i = 2\n",
        "while i<=5:\n",
        "  print(i)\n",
        "  i=i+1\n"
      ],
      "metadata": {
        "id": "c7tVygXp2e-N"
      },
      "execution_count": null,
      "outputs": []
    },
    {
      "cell_type": "code",
      "source": [
        "#multiplicatoon\n",
        "num = int(input(\"enter the table number\"))\n",
        "i = 1\n",
        "while i<=10:\n",
        "  print(i*num)\n",
        "  i=i+1\n"
      ],
      "metadata": {
        "id": "7JZ9BtT83B6t"
      },
      "execution_count": null,
      "outputs": []
    },
    {
      "cell_type": "code",
      "source": [
        "#for loop\n",
        "for i in \"Radikaiiii\":\n",
        "  print(\"hihi\")\n",
        "\n",
        "for i in [10,20,40]:\n",
        "  print(i*3)\n"
      ],
      "metadata": {
        "id": "mMWCF2aF5myc"
      },
      "execution_count": null,
      "outputs": []
    },
    {
      "cell_type": "code",
      "source": [
        "from typing import Counter\n",
        "v=['a','e','i','o','u']\n",
        "string=input(\"enter your string:\")\n",
        "counter= 0\n",
        "\n",
        "for i in string:\n",
        "  if i in v:\n",
        "    counter = counter +1\n",
        "print(counter)"
      ],
      "metadata": {
        "id": "BEnC9tYw6kZO"
      },
      "execution_count": null,
      "outputs": []
    },
    {
      "cell_type": "code",
      "source": [
        "#reverse string using slicing\n",
        "#palindrome"
      ],
      "metadata": {
        "id": "r1R3WIKV79bp"
      },
      "execution_count": null,
      "outputs": []
    },
    {
      "cell_type": "code",
      "source": [
        "s = \"malayalam\"\n",
        "print(s[::-1])\n"
      ],
      "metadata": {
        "id": "rfTuNe3jpOkT"
      },
      "execution_count": null,
      "outputs": []
    },
    {
      "cell_type": "code",
      "source": [
        "string=(input(\"enter any word and check whether it is palindrome or not\"))\n",
        "print(string[::-1])"
      ],
      "metadata": {
        "id": "EBgd7ZdtpyBp"
      },
      "execution_count": null,
      "outputs": []
    },
    {
      "cell_type": "code",
      "source": [
        "s=input(\"enter any string\")\n",
        "if s==s[::-1]:\n",
        "  print(\"yes!it is palindrome\")\n",
        "else:\n",
        "  print(\"no\")"
      ],
      "metadata": {
        "id": "V-DnnmHwrJUP"
      },
      "execution_count": null,
      "outputs": []
    },
    {
      "cell_type": "code",
      "source": [
        "#split() count\n",
        "s=\"i+live_in+blr\"\n",
        "s.split('+' , 2)"
      ],
      "metadata": {
        "id": "Z1I9kRZEzk_t"
      },
      "execution_count": null,
      "outputs": []
    },
    {
      "cell_type": "code",
      "source": [
        "#datastructers\n",
        "#1.list\n",
        "#2tuple\n",
        "#3 dict\n",
        "#4. set"
      ],
      "metadata": {
        "id": "wvoAnQiP29CM"
      },
      "execution_count": null,
      "outputs": []
    },
    {
      "cell_type": "code",
      "source": [
        "#list\n",
        "l=[10,20,30,1.2,'AJJU']\n",
        "print(l)\n",
        "print(type(l))"
      ],
      "metadata": {
        "id": "Bb4YPWFT8Hfj"
      },
      "execution_count": null,
      "outputs": []
    },
    {
      "cell_type": "code",
      "source": [
        "#list indexing\n",
        "l1=[10,20,40,5.6,[1,2,3],\"ajju\"]\n",
        "print(l1[2])\n",
        "print(l1[-2])\n",
        "print(l1[4][0])\n"
      ],
      "metadata": {
        "id": "9P5pcjX5-oEJ"
      },
      "execution_count": null,
      "outputs": []
    },
    {
      "cell_type": "code",
      "source": [
        "#list slicing\n",
        "l1=[10,20,40,5.6,[1,2,3],\"ajju\"]\n",
        "print(l1[::])"
      ],
      "metadata": {
        "id": "m_niwmqW_fVz"
      },
      "execution_count": null,
      "outputs": []
    },
    {
      "cell_type": "code",
      "source": [
        "#concatination of lists\n",
        "l1=[2,3,4]\n",
        "l2=[4,5,6]\n",
        "l3=l1+l2\n",
        "print(l3)"
      ],
      "metadata": {
        "id": "GHUfodHOAvqp"
      },
      "execution_count": null,
      "outputs": []
    },
    {
      "cell_type": "code",
      "source": [
        "#mul list\n",
        "l1=[10,20,30]\n",
        "print(l1*2)\n",
        "\n"
      ],
      "metadata": {
        "id": "JmmBl8s1DiUA"
      },
      "execution_count": null,
      "outputs": []
    },
    {
      "cell_type": "code",
      "source": [
        "#list iteration\n",
        "l1=[10,20,30]\n",
        "for i in l1:\n",
        "  print(i+1)"
      ],
      "metadata": {
        "id": "o8xzZi4SECj9"
      },
      "execution_count": null,
      "outputs": []
    },
    {
      "cell_type": "code",
      "source": [
        "# list membership\n",
        "l1=[10,6,7]\n",
        "print(10 in l1)"
      ],
      "metadata": {
        "id": "rggy6II_EZ4v"
      },
      "execution_count": null,
      "outputs": []
    },
    {
      "cell_type": "code",
      "source": [
        "#list del\n",
        "l1=[10,20,50]\n",
        "print(l1)\n",
        "del(l1[1])\n",
        "print(l1)"
      ],
      "metadata": {
        "id": "Rubz80b_E102"
      },
      "execution_count": null,
      "outputs": []
    },
    {
      "cell_type": "code",
      "source": [
        "#max element list\n",
        "\n",
        "l1=[10,20,30]\n",
        "print(max(l1))\n",
        "\n",
        "l2=[\"apple\",\"adhiiii\",\"aj\"]\n",
        "print(max(l2, key=len))"
      ],
      "metadata": {
        "id": "6VH-yvFdHA8O"
      },
      "execution_count": null,
      "outputs": []
    },
    {
      "cell_type": "code",
      "source": [
        "#min ele list\n",
        "\n"
      ],
      "metadata": {
        "id": "EB78sN2ZKXpX"
      },
      "execution_count": null,
      "outputs": []
    },
    {
      "cell_type": "code",
      "source": [
        "#max element list\n",
        "\n",
        "l1=[6,10,20,30]\n",
        "print(min(l1))\n",
        "\n"
      ],
      "metadata": {
        "id": "kGlv4XiPKgJN"
      },
      "execution_count": null,
      "outputs": []
    },
    {
      "cell_type": "code",
      "source": [
        "#append method\n",
        "l1=[10,20,30]\n",
        "l1.append(1.23)\n",
        "print(l1)"
      ],
      "metadata": {
        "id": "NQ8pn4z3K48b"
      },
      "execution_count": null,
      "outputs": []
    },
    {
      "cell_type": "code",
      "source": [
        "#dictionary\n",
        "dict1={\"pp\":\"al\", \"qq\":\"radhi\"}\n",
        "print(dict1)\n",
        "print(type(dict1))\n",
        "\n",
        "#access the dict\n",
        "print(dict1[\"pp\"])\n"
      ],
      "metadata": {
        "id": "7klgjDY82hKK"
      },
      "execution_count": null,
      "outputs": []
    },
    {
      "cell_type": "code",
      "source": [
        "dict1={9882:[\"radhi\", 22, \"hh hyd\"], 9881:(\"ajju\",44, \"mum\")}\n",
        "print(dict1)\n",
        "dict1[9883]=\"krish\" #adding new key -pair\n",
        "print(dict1)"
      ],
      "metadata": {
        "id": "YdMVD6nv4mUK"
      },
      "execution_count": null,
      "outputs": []
    },
    {
      "cell_type": "code",
      "source": [
        "#dict del key\n",
        "dict1={9882:[\"radhi\", 22, \"hh hyd\"], 9881:(\"ajju\",44, \"mum\")}\n",
        "print(dict1)\n",
        "del dict1[9882]\n",
        "print(dict1)\n",
        "#value = dict1.pop(9881) #pop - returns the del value\n",
        "#print(value)\n",
        "#print(dict1)"
      ],
      "metadata": {
        "id": "d_kGWD956Lwq"
      },
      "execution_count": null,
      "outputs": []
    },
    {
      "cell_type": "code",
      "source": [
        "#Set\n",
        "s1={10,20,30,79}\n",
        "print(s1)\n",
        "print(type(s1))"
      ],
      "metadata": {
        "id": "8LpXUOVQ-tqC"
      },
      "execution_count": null,
      "outputs": []
    },
    {
      "cell_type": "code",
      "source": [],
      "metadata": {
        "id": "_yEQockK6LdO"
      },
      "execution_count": null,
      "outputs": []
    },
    {
      "cell_type": "code",
      "source": [
        "#set const\n",
        "s2=set(\"radh ika\")\n",
        "print(s2)\n",
        "print(type(s2))"
      ],
      "metadata": {
        "id": "VXBkV5tgArl4"
      },
      "execution_count": null,
      "outputs": []
    },
    {
      "cell_type": "code",
      "source": [
        "#set\n",
        "s={10,20,30}\n",
        "s.add(7)\n",
        "\n",
        "s.update([67,98])\n",
        "print(s)\n"
      ],
      "metadata": {
        "id": "__n8WjWtEW3v"
      },
      "execution_count": null,
      "outputs": []
    },
    {
      "cell_type": "code",
      "source": [
        "#remove\n",
        "s={19,59,54}\n",
        "s.remove(19)\n",
        "\n",
        "print(s)"
      ],
      "metadata": {
        "id": "tlwK-P_kFJi7"
      },
      "execution_count": null,
      "outputs": []
    },
    {
      "cell_type": "code",
      "source": [
        "#discard\n",
        "s={56,86,98}\n",
        "print(s.discard(777))\n",
        "print(s)"
      ],
      "metadata": {
        "id": "GC1djpX8FoxZ"
      },
      "execution_count": null,
      "outputs": []
    },
    {
      "cell_type": "code",
      "source": [
        "#pop\n",
        "s={56,86,98}\n",
        "print(s.pop())\n",
        "print(s)"
      ],
      "metadata": {
        "id": "c5oGM0LGGUDG"
      },
      "execution_count": null,
      "outputs": []
    },
    {
      "cell_type": "code",
      "source": [
        "l1=[10,25,36,10,25,81]\n",
        "uniquelist=[]\n",
        "for i in l1:\n",
        "  if i not in uniquelist:\n",
        "    uniquelist.append(i)\n",
        "\n",
        "print(uniquelist)"
      ],
      "metadata": {
        "id": "GCIUbqgcXz2Q"
      },
      "execution_count": null,
      "outputs": []
    },
    {
      "cell_type": "code",
      "source": [
        "# second largest numver\n",
        "l1=[10, 20, 30, 40,59]\n",
        "firsthighestnumber = max(l1)\n",
        "print(firsthighestnumber)\n",
        "l1.remove(59)\n",
        "print(l1)\n",
        "secondlargest=max(l1)\n",
        "print(secondlargest)"
      ],
      "metadata": {
        "id": "U942oWfPbzNY"
      },
      "execution_count": null,
      "outputs": []
    },
    {
      "cell_type": "code",
      "source": [
        "#program to get occrance of numbers in list\n",
        "l1=[2,3,4,5,6,6]\n",
        "l2=[]\n",
        "for i in l1:\n",
        "  if i not in l2:\n",
        "    l2.append(i)\n",
        "    print(i,\"occurs\" , l1.count(i),\"times\")"
      ],
      "metadata": {
        "id": "JVRJv-2AEXIO"
      },
      "execution_count": null,
      "outputs": []
    },
    {
      "cell_type": "code",
      "source": [
        "#tuple\n",
        "t1=(10,20,30,50,60)\n",
        "print(t1)\n",
        "print(type(t1))"
      ],
      "metadata": {
        "id": "ZZSBnSjiL2F7"
      },
      "execution_count": null,
      "outputs": []
    },
    {
      "cell_type": "code",
      "source": [
        "#tuple creation using constructor\n",
        "l1=[30,40]\n",
        "t1=tuple(l1)\n",
        "print(t1)\n",
        "print(type(t1))\n",
        "print(l1)"
      ],
      "metadata": {
        "id": "0_dpGgV_M30O"
      },
      "execution_count": null,
      "outputs": []
    },
    {
      "cell_type": "code",
      "source": [
        "#tuple indexing\n",
        "t1=(10,30,\"radhi\",89)\n",
        "print(t1[2])"
      ],
      "metadata": {
        "id": "ChgI7fl0chIs"
      },
      "execution_count": null,
      "outputs": []
    },
    {
      "cell_type": "code",
      "source": [
        "#concatination\n",
        "t1=(18,56,78)\n",
        "new =t1+(5,8)\n",
        "print(new)"
      ],
      "metadata": {
        "id": "xISk1qb8dOMo"
      },
      "execution_count": null,
      "outputs": []
    },
    {
      "cell_type": "code",
      "source": [
        "num = int(input(\"Enter a number: \"))\n",
        "factorial = 1\n",
        "for i in range(1, num + 1):\n",
        "    factorial *= i\n",
        "print(\"The factorial of\", num, \"is\", factorial)\n"
      ],
      "metadata": {
        "id": "d3_XckX2CDYF"
      },
      "execution_count": null,
      "outputs": []
    },
    {
      "cell_type": "code",
      "source": [
        "from pathlib import PureWindowsPath\n",
        "def cal():\n",
        "  print(\"select opeartion\")\n",
        "  print(\" 1 for add\")\n",
        "  print(\"2: sub\")\n",
        "  print(\"3 : mul\")\n",
        "  print(\"4:div\")\n",
        "  choice=input(\"enter 1/2/3/4:\")\n",
        "  num1=int(input(\"enter the first num\"))\n",
        "  num2=int(input(\"enter the sec num\"))\n",
        "  if choice=='1':\n",
        "    print(num1+num2)\n",
        "  elif choice=='2':\n",
        "    print(num1-num2)\n",
        "  elif choice=='3':\n",
        "    print(num1/num2)\n",
        "    if num2 !=0:\n",
        "      print(num1/num2)\n",
        "    else:\n",
        "      print(\"cannot be divide\")\n",
        "  else:\n",
        "     PureWindowsPath(\"invalid i/p\")\n",
        "cal()\n",
        "\n"
      ],
      "metadata": {
        "id": "Nce-VnuBD1Se"
      },
      "execution_count": null,
      "outputs": []
    },
    {
      "cell_type": "code",
      "source": [
        "string = input(\"Enter a string: \")\n",
        "vowels = \"aeiouAEIOU\"\n",
        "count = sum(1 for char in string if char in vowels)\n",
        "print(f\"Number of vowels in the string: {count}\")\n"
      ],
      "metadata": {
        "id": "WwDnuUtSOmqi"
      },
      "execution_count": null,
      "outputs": []
    },
    {
      "cell_type": "code",
      "source": [],
      "metadata": {
        "id": "XXvoX2UDD07m"
      },
      "execution_count": null,
      "outputs": []
    },
    {
      "cell_type": "code",
      "source": [
        "principal = float(input(\"Enter principal amount: \"))\n",
        "rate = float(input(\"Enter annual interest rate (in %): \"))\n",
        "time = float(input(\"Enter time (in years): \"))\n",
        "\n",
        "simple_interest = (principal * rate * time) / 100\n",
        "print(\"Simple Interest is:\", simple_interest)\n"
      ],
      "metadata": {
        "id": "HtkjIhGIZnH-"
      },
      "execution_count": null,
      "outputs": []
    },
    {
      "cell_type": "code",
      "source": [
        "# Extract only even numbers from a list\n",
        "numbers = [1, 2, 3, 4, 5, 6]\n",
        "#even_numbers = [num for num in numbers if num % 2 == 0]\n",
        "even=[num for num in numbers if num % 2 == 0]\n",
        "print(\"Even Numbers:\", even)\n"
      ],
      "metadata": {
        "id": "Ne9M5QwLiA0K"
      },
      "execution_count": null,
      "outputs": []
    },
    {
      "cell_type": "code",
      "source": [
        "# Join list elements into a single string\n",
        "words = [\"Hello\", \"World\", \"Python\"]\n",
        "#sentence = \" \".join(words)\n",
        "sentence=\" \".join(words)\n",
        "print(\"Sentence:\", sentence)\n"
      ],
      "metadata": {
        "id": "vsFiy6MeiaTK"
      },
      "execution_count": null,
      "outputs": []
    },
    {
      "cell_type": "code",
      "source": [
        "# Count how many times an element appears\n",
        "colors = [\"red\", \"blue\", \"red\", \"green\", \"blue\", \"red\"]\n",
        "red_count = colors.count(\"red\")\n",
        "print(\"Count of /red:\", red_count)\n"
      ],
      "metadata": {
        "id": "lBqPZyJvk2II"
      },
      "execution_count": null,
      "outputs": []
    },
    {
      "cell_type": "code",
      "source": [
        "# Remove elements by index\n",
        "my_list = [0, 1, 2, 3, 4, 5]\n",
        "indices_to_remove = [1, 4]\n",
        "result = [value for index, value in enumerate(my_list) if index not in indices_to_remove]\n",
        "#result=\n",
        "print(\"Updated List:\", result)\n",
        "print(enumerate(my_list))\n"
      ],
      "metadata": {
        "id": "4MN_Pnn5lNjf"
      },
      "execution_count": null,
      "outputs": []
    },
    {
      "cell_type": "code",
      "source": [
        "location = (37.7749, -122.4194)  # San Francisco, USA\n",
        "#print(f\"Latitude- {location[1]}, Longitude: {location[1]}\")\n",
        "#location = (37.7749, -122.4194)  # San Francisco, USA\n",
        "print(f\"latitude: {location[0]}, longitude: {location}\")"
      ],
      "metadata": {
        "id": "11w263Hi_BrM"
      },
      "execution_count": null,
      "outputs": []
    },
    {
      "cell_type": "code",
      "source": [
        "def calculate_metrics(values):\n",
        "    return (min(values), max(values), sum(values) / len(values))\n",
        "\n",
        "data = [10, 20, 30, 40]\n",
        "metrics = calculate_metrics(data)\n",
        "print(f\"Min: {metrics[0]}, Max: {metrics[1]}, Avg: {metrics[2]}\")\n"
      ],
      "metadata": {
        "id": "irPuC-kOAJLY"
      },
      "execution_count": null,
      "outputs": []
    },
    {
      "cell_type": "code",
      "source": [
        "sales_data = {(\"Jan\", 2025): 1500, (\"Feb\", 2025): 1800}\n",
        "print(sales_data[(\"Jan\", 2025)])\n"
      ],
      "metadata": {
        "id": "wRv0JPkuBCW8"
      },
      "execution_count": null,
      "outputs": []
    },
    {
      "cell_type": "code",
      "source": [
        "csv_row = (\"Alice\", \"Engineer\", 28)\n",
        "print(f\"Name: {csv_row[0]}, Profession: {csv_row[1]}, Age: {csv_row[2]}\")\n"
      ],
      "metadata": {
        "id": "22lAZvUDBfEK"
      },
      "execution_count": null,
      "outputs": []
    },
    {
      "cell_type": "code",
      "source": [
        "log_entry = (\"2025-04-28 16:00:00\", \"INFO\", \"System started\")\n",
        "print(f\"Log: {log_entry[2]}\")\n"
      ],
      "metadata": {
        "id": "pgyVlB4iBspk"
      },
      "execution_count": null,
      "outputs": []
    },
    {
      "cell_type": "code",
      "source": [],
      "metadata": {
        "id": "lSngzfpKBsdV"
      },
      "execution_count": null,
      "outputs": []
    },
    {
      "cell_type": "code",
      "source": [
        "def calculate_area_and_perimeter(length, breadth):\n",
        "    return (length * breadth, 2 * (length + breadth))\n",
        "\n",
        "result = calculate_area_and_perimeter(5, 3)\n",
        "print(f\"Area: {result}, Perimeter: {result[1]}\")\n"
      ],
      "metadata": {
        "id": "iagle2AeCr6f"
      },
      "execution_count": null,
      "outputs": []
    },
    {
      "cell_type": "code",
      "source": [
        "t = (1,2,[3,9])\n",
        "t[2][0]=5\n",
        "print(t)"
      ],
      "metadata": {
        "id": "YpfN-YKJEDFp"
      },
      "execution_count": null,
      "outputs": []
    },
    {
      "cell_type": "code",
      "source": [
        "#simple functions\n",
        "def fun():\n",
        "  print(\"hello radhika\")\n",
        "  print(\"welcome\")\n",
        "print(\"before func call\")\n",
        "fun()\n",
        "print(\"aftr fun\")"
      ],
      "metadata": {
        "id": "1dhLZmlwWJ4Y"
      },
      "execution_count": null,
      "outputs": []
    },
    {
      "cell_type": "code",
      "source": [
        "#square of num\n",
        "#without args withot return values\n",
        "def square():\n",
        "  x=int(input(\"enter the number\"))\n",
        "  y=x**2\n",
        "  print(\"square of\",x,\"is\",y)\n",
        "  #return(num*num)\n",
        "square()\n"
      ],
      "metadata": {
        "id": "jW--zyEtZFya"
      },
      "execution_count": null,
      "outputs": []
    },
    {
      "cell_type": "code",
      "source": [
        "#with args with return values\n",
        "\n",
        "def square(x):\n",
        "  #y=x**2\n",
        "  return x**2\n",
        "x=int(input(\"enter the number\"))\n",
        "res= square(x)\n",
        "print(res)"
      ],
      "metadata": {
        "id": "YyJC3S9adLJR"
      },
      "execution_count": null,
      "outputs": []
    },
    {
      "cell_type": "code",
      "source": [
        "#with args ,without return values\n",
        "def square(x):\n",
        "  y=x**2\n",
        "  print(\"square of\",x,\"is\",y)\n",
        "x=int(input(\"enter num\"))\n",
        "square(x)\n"
      ],
      "metadata": {
        "id": "4tJamEwMd_Bv"
      },
      "execution_count": null,
      "outputs": []
    },
    {
      "cell_type": "code",
      "source": [
        "#without args with return values\n",
        "def square():\n",
        "  x=int(input(\"enter num\"))\n",
        "  y=x**2\n",
        "  return y\n",
        "res=square()\n",
        "print(res)"
      ],
      "metadata": {
        "id": "52uYWWcPevhs"
      },
      "execution_count": null,
      "outputs": []
    },
    {
      "cell_type": "code",
      "source": [
        "#return stmt\n",
        "#return multiple values\n",
        "def test(a,b,c,d):\n",
        "  return(a,b,c,d)\n",
        "\n",
        "x,y,z,k=test(10,20,30,6)\n",
        "print(x,y,z,k)\n",
        "\n"
      ],
      "metadata": {
        "id": "N9VsyG4UgZup"
      },
      "execution_count": null,
      "outputs": []
    },
    {
      "cell_type": "code",
      "source": [
        "def func1(a,b,c,d):\n",
        "  return a,b,c,d\n",
        "\n",
        "_,val2,_,val4 = func1(10,20,30,40)\n",
        "print(val2, val4)"
      ],
      "metadata": {
        "id": "UFbWpZHzkLR8",
        "outputId": "fd080415-298a-4cee-a4ed-cdef94bfaa1c",
        "colab": {
          "base_uri": "https://localhost:8080/"
        }
      },
      "execution_count": null,
      "outputs": [
        {
          "output_type": "stream",
          "name": "stdout",
          "text": [
            "20 40\n"
          ]
        }
      ]
    },
    {
      "cell_type": "code",
      "source": [
        "def greet(name):\n",
        "    \"\"\"This function greets the person passed as an argument.\"\"\"\n",
        "    return f\"Hello, {name}!\"\n",
        "\n",
        "print(greet(\"Alice\"))\n"
      ],
      "metadata": {
        "id": "9YbpR4HxeXP-",
        "outputId": "6f96f397-36e6-460b-e199-a825d68bd157",
        "colab": {
          "base_uri": "https://localhost:8080/"
        }
      },
      "execution_count": null,
      "outputs": [
        {
          "output_type": "stream",
          "name": "stdout",
          "text": [
            "Hello, Alice!\n"
          ]
        }
      ]
    },
    {
      "cell_type": "code",
      "source": [
        "#function callinf another fun\n",
        "def test1():\n",
        "  print(\"im inside test1\")\n",
        "  test2()#fn call\n",
        "  print(\"back to test1\")\n",
        "def test2():\n",
        "  print(\"im in test2\")\n",
        "  print(\"going back\")\n",
        "test1()#fn call\n",
        "print(\"end of program\")\n"
      ],
      "metadata": {
        "id": "BFcaA8ITAnOA",
        "outputId": "33909ed8-74ac-40c6-ac1e-2061f49c0a26",
        "colab": {
          "base_uri": "https://localhost:8080/"
        }
      },
      "execution_count": 1,
      "outputs": [
        {
          "output_type": "stream",
          "name": "stdout",
          "text": [
            "im inside test1\n",
            "im in test2\n",
            "going back\n",
            "back to test1\n"
          ]
        }
      ]
    },
    {
      "cell_type": "code",
      "source": [
        "#local var -life - memory will deallocate after the execution\n",
        "def test():\n",
        "  x=10\n",
        "  x=x+1\n",
        "  print(x)\n",
        "test()\n",
        "test()\n",
        "test()"
      ],
      "metadata": {
        "id": "428iGpvFDGOf",
        "outputId": "0d8a8a23-ed1b-44d0-d8ec-84ad9bc640f0",
        "colab": {
          "base_uri": "https://localhost:8080/"
        }
      },
      "execution_count": 2,
      "outputs": [
        {
          "output_type": "stream",
          "name": "stdout",
          "text": [
            "11\n",
            "11\n",
            "11\n"
          ]
        }
      ]
    },
    {
      "cell_type": "code",
      "source": [
        "#local variable-scope\n",
        "def test():\n",
        "  x=10\n",
        "  x=x+1\n",
        "  print(x)\n",
        "test()\n",
        "print(x)\n",
        "test()\n",
        "test()\n"
      ],
      "metadata": {
        "id": "NxqAXtQUDyQb",
        "outputId": "0f618aab-bce4-41ea-ece0-72ebee216363",
        "colab": {
          "base_uri": "https://localhost:8080/",
          "height": 228
        }
      },
      "execution_count": 3,
      "outputs": [
        {
          "output_type": "stream",
          "name": "stdout",
          "text": [
            "11\n"
          ]
        },
        {
          "output_type": "error",
          "ename": "NameError",
          "evalue": "name 'x' is not defined",
          "traceback": [
            "\u001b[0;31m---------------------------------------------------------------------------\u001b[0m",
            "\u001b[0;31mNameError\u001b[0m                                 Traceback (most recent call last)",
            "\u001b[0;32m<ipython-input-3-186d9f7ca720>\u001b[0m in \u001b[0;36m<cell line: 0>\u001b[0;34m()\u001b[0m\n\u001b[1;32m      5\u001b[0m   \u001b[0mprint\u001b[0m\u001b[0;34m(\u001b[0m\u001b[0mx\u001b[0m\u001b[0;34m)\u001b[0m\u001b[0;34m\u001b[0m\u001b[0;34m\u001b[0m\u001b[0m\n\u001b[1;32m      6\u001b[0m \u001b[0mtest\u001b[0m\u001b[0;34m(\u001b[0m\u001b[0;34m)\u001b[0m\u001b[0;34m\u001b[0m\u001b[0;34m\u001b[0m\u001b[0m\n\u001b[0;32m----> 7\u001b[0;31m \u001b[0mprint\u001b[0m\u001b[0;34m(\u001b[0m\u001b[0mx\u001b[0m\u001b[0;34m)\u001b[0m\u001b[0;34m\u001b[0m\u001b[0;34m\u001b[0m\u001b[0m\n\u001b[0m\u001b[1;32m      8\u001b[0m \u001b[0mtest\u001b[0m\u001b[0;34m(\u001b[0m\u001b[0;34m)\u001b[0m\u001b[0;34m\u001b[0m\u001b[0;34m\u001b[0m\u001b[0m\n\u001b[1;32m      9\u001b[0m \u001b[0mtest\u001b[0m\u001b[0;34m(\u001b[0m\u001b[0;34m)\u001b[0m\u001b[0;34m\u001b[0m\u001b[0;34m\u001b[0m\u001b[0m\n",
            "\u001b[0;31mNameError\u001b[0m: name 'x' is not defined"
          ]
        }
      ]
    },
    {
      "cell_type": "code",
      "source": [
        "#global var\n",
        "n=10\n",
        "def fun():\n",
        "  print(n)\n",
        "fun()\n",
        "print(n)"
      ],
      "metadata": {
        "id": "el6lxulpEK1W",
        "outputId": "c2d63f82-f9f2-44e2-e35a-6807780e131b",
        "colab": {
          "base_uri": "https://localhost:8080/"
        }
      },
      "execution_count": 5,
      "outputs": [
        {
          "output_type": "stream",
          "name": "stdout",
          "text": [
            "10\n",
            "10\n"
          ]
        }
      ]
    },
    {
      "cell_type": "code",
      "source": [
        "#global var\n",
        "n=10\n",
        "def fun():\n",
        "  n=5#local var\n",
        "  print(n)\n",
        "fun()\n",
        "print(n)"
      ],
      "metadata": {
        "id": "JzvbfRdqEpCj",
        "outputId": "74902ec0-500e-4471-8c69-bb50ac645702",
        "colab": {
          "base_uri": "https://localhost:8080/"
        }
      },
      "execution_count": 6,
      "outputs": [
        {
          "output_type": "stream",
          "name": "stdout",
          "text": [
            "5\n",
            "10\n"
          ]
        }
      ]
    },
    {
      "cell_type": "code",
      "source": [
        "#global var\n",
        "n=10\n",
        "def fun():\n",
        "  global n #global keyword\n",
        "  n=n+1\n",
        "  print(n)\n",
        "fun()\n",
        "print(n)"
      ],
      "metadata": {
        "id": "OxFLmQqvFGz5",
        "outputId": "9bcfbd87-975d-40ae-e7e3-25bfd560d91a",
        "colab": {
          "base_uri": "https://localhost:8080/"
        }
      },
      "execution_count": 9,
      "outputs": [
        {
          "output_type": "stream",
          "name": "stdout",
          "text": [
            "11\n",
            "11\n"
          ]
        }
      ]
    }
  ]
}