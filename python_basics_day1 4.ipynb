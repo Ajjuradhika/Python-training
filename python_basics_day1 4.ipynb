{
  "nbformat": 4,
  "nbformat_minor": 0,
  "metadata": {
    "colab": {
      "provenance": []
    },
    "kernelspec": {
      "name": "python3",
      "display_name": "Python 3"
    },
    "language_info": {
      "name": "python"
    }
  },
  "cells": [
    {
      "cell_type": "code",
      "execution_count": null,
      "metadata": {
        "colab": {
          "base_uri": "https://localhost:8080/",
          "height": 141
        },
        "id": "fooBKl8FmcO4",
        "outputId": "2c2d67e8-e943-4afd-d46b-1b04919f4960"
      },
      "outputs": [
        {
          "output_type": "error",
          "ename": "NameError",
          "evalue": "name 'prit' is not defined",
          "traceback": [
            "\u001b[0;31m---------------------------------------------------------------------------\u001b[0m",
            "\u001b[0;31mNameError\u001b[0m                                 Traceback (most recent call last)",
            "\u001b[0;32m<ipython-input-3-db6dda56cc4d>\u001b[0m in \u001b[0;36m<cell line: 0>\u001b[0;34m()\u001b[0m\n\u001b[0;32m----> 1\u001b[0;31m \u001b[0mprit\u001b[0m\u001b[0;34m(\u001b[0m\u001b[0;34m\"welcome to Python world\"\u001b[0m\u001b[0;34m)\u001b[0m\u001b[0;34m\u001b[0m\u001b[0;34m\u001b[0m\u001b[0m\n\u001b[0m",
            "\u001b[0;31mNameError\u001b[0m: name 'prit' is not defined"
          ]
        }
      ],
      "source": [
        "prit(\"welcome to Python world\")"
      ]
    },
    {
      "cell_type": "code",
      "source": [
        "print(\"radhika\")"
      ],
      "metadata": {
        "id": "EIcFCol4oS9y",
        "outputId": "c5d981b7-e50d-4f99-9da6-9b35f749adb9",
        "colab": {
          "base_uri": "https://localhost:8080/"
        }
      },
      "execution_count": null,
      "outputs": [
        {
          "output_type": "stream",
          "name": "stdout",
          "text": [
            "radhika\n"
          ]
        }
      ]
    },
    {
      "cell_type": "code",
      "source": [
        "a=10\n",
        "print(a)\n",
        "print(\"a=\", id(a))\n",
        "a=\"ajju\"\n",
        "print(a)\n",
        "print(id(a))\n",
        "\n",
        "#delete variable\n",
        "\n",
        "a=40\n",
        "print(a)\n",
        "\n",
        "del a\n"
      ],
      "metadata": {
        "id": "456iibnZml4b"
      },
      "execution_count": null,
      "outputs": []
    },
    {
      "cell_type": "code",
      "source": [
        "#anotation\n",
        "a:int = 10\n",
        "print(a)\n",
        "print(__annotations__['a'])"
      ],
      "metadata": {
        "id": "EyYtE0f-_zVO",
        "outputId": "a1ec511c-9cdd-4c69-a423-e34e92aef934",
        "colab": {
          "base_uri": "https://localhost:8080/"
        }
      },
      "execution_count": null,
      "outputs": [
        {
          "output_type": "stream",
          "name": "stdout",
          "text": [
            "10\n",
            "<class 'int'>\n"
          ]
        }
      ]
    },
    {
      "cell_type": "code",
      "source": [
        "#string slicing #positive indexing\n",
        "s=\"bangalore\"\n",
        "print(s[::])"
      ],
      "metadata": {
        "id": "GC8iQJN6N9eh",
        "outputId": "8d2c2663-d96f-4e24-a393-e254421577d1",
        "colab": {
          "base_uri": "https://localhost:8080/"
        }
      },
      "execution_count": null,
      "outputs": [
        {
          "output_type": "stream",
          "name": "stdout",
          "text": [
            "bangalore\n"
          ]
        }
      ]
    },
    {
      "cell_type": "code",
      "source": [
        "#negative indexing add +1 ie., -1:-3:0 and -1:-7:-1\n",
        "s=\"bangalore\"\n",
        "print(s[-1:-4:-1])\n",
        "print(s[-1:-8:-2])\n",
        "print(s[-2:-6:2])#positive indexing left to right starts frm -2 so no o/p  #positive indexing left to right for 2 and 3 parameter subtract -1\n",
        "print(s[-1::-1])"
      ],
      "metadata": {
        "id": "y-KQyw97SutA",
        "outputId": "fd70b16e-a86c-4ddc-e3f0-99f7263558e1",
        "colab": {
          "base_uri": "https://localhost:8080/"
        }
      },
      "execution_count": null,
      "outputs": [
        {
          "output_type": "stream",
          "name": "stdout",
          "text": [
            "ero\n",
            "eoan\n",
            "\n",
            "erolagnab\n"
          ]
        }
      ]
    },
    {
      "cell_type": "code",
      "source": [],
      "metadata": {
        "id": "IMFCMJEniNax"
      },
      "execution_count": null,
      "outputs": []
    },
    {
      "cell_type": "code",
      "source": [
        "string=\"Hello,world!\"\n",
        "print(string[7:12])\n",
        "print(string[-6:-1])"
      ],
      "metadata": {
        "id": "1q1w6s_7V18Q",
        "outputId": "b742a3cb-650f-448f-87cb-82765681dc52",
        "colab": {
          "base_uri": "https://localhost:8080/"
        }
      },
      "execution_count": null,
      "outputs": [
        {
          "output_type": "stream",
          "name": "stdout",
          "text": [
            "orld!\n",
            "world\n"
          ]
        }
      ]
    },
    {
      "cell_type": "code",
      "source": [
        "string = \"Python is fun!\"\n",
        "print(string[-1:-7:-2])"
      ],
      "metadata": {
        "colab": {
          "base_uri": "https://localhost:8080/"
        },
        "id": "D36GDV6DiOGx",
        "outputId": "bbb294b5-af92-4891-f7bc-984b74e0df3b"
      },
      "execution_count": 2,
      "outputs": [
        {
          "output_type": "stream",
          "name": "stdout",
          "text": [
            "!u \n"
          ]
        }
      ]
    },
    {
      "cell_type": "code",
      "source": [
        "#decision making-- day 3\n",
        "#simple if\n",
        "\n",
        "if 1>5:\n",
        "  print(\"10 is greater than 5\")\n",
        "print(\"outside if block\")\n"
      ],
      "metadata": {
        "colab": {
          "base_uri": "https://localhost:8080/"
        },
        "id": "fucEl3ZpnAXe",
        "outputId": "3fbbcd48-57ec-4976-dc62-0a24409efc20"
      },
      "execution_count": 7,
      "outputs": [
        {
          "output_type": "stream",
          "name": "stdout",
          "text": [
            "outside if block\n"
          ]
        }
      ]
    },
    {
      "cell_type": "code",
      "source": [
        "#input stmt\n",
        "name=input(\"enter ur name\")\n",
        "print(\"ur name is\", name)\n"
      ],
      "metadata": {
        "colab": {
          "base_uri": "https://localhost:8080/"
        },
        "id": "U4RLiwd9pTL9",
        "outputId": "1685484c-20f5-4b40-fa56-315765d32018"
      },
      "execution_count": 8,
      "outputs": [
        {
          "output_type": "stream",
          "name": "stdout",
          "text": [
            "enter ur numberradhika\n",
            "ur name is radhika\n"
          ]
        }
      ]
    },
    {
      "cell_type": "code",
      "source": [
        "n1=int(input(\"enter ur 1 number\"))\n",
        "n2=int(input(\"enter ur 2 number\"))\n",
        "#print(n1+n2)\n",
        "if (n1>n2):\n",
        "  print(\"n1 is greater\")"
      ],
      "metadata": {
        "colab": {
          "base_uri": "https://localhost:8080/"
        },
        "id": "Oq-J6zM_qDqx",
        "outputId": "25e0e06b-e55c-44f6-bfac-370e1dd0e8f9"
      },
      "execution_count": 11,
      "outputs": [
        {
          "output_type": "stream",
          "name": "stdout",
          "text": [
            "enter ur 1 number15\n",
            "enter ur 2 number6\n",
            "n1 is greater\n"
          ]
        }
      ]
    },
    {
      "cell_type": "code",
      "source": [
        "age=\n",
        "int(input(\"enter ur age\"))\n",
        "if age >= 18 :\n",
        "  print(\"welcome to vote\")\n",
        "  print(\"you can vote\")\n",
        "else:\n",
        "  print(\"you cannot vote\")\n",
        "print(\"thank u\")#\n",
        "\n",
        "marks=int(input(\"enter your marks\"))\n",
        "if marks >=35 :\n",
        "  print(\"you are passed\")\n",
        "else:\n",
        "  print(\"you are fail\")\n",
        "print(\"thank you\")"
      ],
      "metadata": {
        "colab": {
          "base_uri": "https://localhost:8080/"
        },
        "id": "jWjKOtrLrtA_",
        "outputId": "fc7d9582-f3fd-4f6d-fc49-5579c06a3901"
      },
      "execution_count": 1,
      "outputs": [
        {
          "output_type": "stream",
          "name": "stdout",
          "text": [
            "enter ur age34\n",
            "welcome to vote\n",
            "you can vote\n",
            "thank u\n",
            "enter your marks45\n",
            "you are passed\n",
            "thank you\n"
          ]
        }
      ]
    },
    {
      "cell_type": "markdown",
      "source": [],
      "metadata": {
        "id": "k7KAG9Nu02Jl"
      }
    },
    {
      "cell_type": "markdown",
      "source": [],
      "metadata": {
        "id": "Fmx6Cg7v05Dk"
      }
    },
    {
      "cell_type": "markdown",
      "source": [],
      "metadata": {
        "id": "-h7AQ3_u05aP"
      }
    },
    {
      "cell_type": "code",
      "source": [],
      "metadata": {
        "id": "JAGHioh52c60"
      },
      "execution_count": null,
      "outputs": []
    },
    {
      "cell_type": "code",
      "source": [],
      "metadata": {
        "id": "US9-YOEy2dzK"
      },
      "execution_count": null,
      "outputs": []
    },
    {
      "cell_type": "code",
      "source": [
        "#if elif else\n",
        "grade = int(input(\"enter your score\"))\n",
        "if  grade >= 90:\n",
        "  print(\"A grade\")\n",
        "elif grade >= 80:\n",
        "  print(\"B grade\")\n",
        "elif grade >= 50:\n",
        "  print(\"c grade\")\n",
        "\n",
        "else :\n",
        "  print(\"fail\")"
      ],
      "metadata": {
        "id": "tTKj149Ou5qQ"
      },
      "execution_count": null,
      "outputs": []
    },
    {
      "cell_type": "code",
      "source": [
        "#nested if\n",
        "num= int(input(\"enter ur number\"))\n",
        "\n",
        "if num> 0:\n",
        "  print(\"number is positive number\")\n",
        "  if num%2==0 :\n",
        "    print(\"number is even\")\n",
        "  else:\n",
        "    print(\"number is odd\")\n",
        "\n",
        "else:\n",
        "  print(\"number is negative\")"
      ],
      "metadata": {
        "id": "q3OBQ-c90G0o"
      },
      "execution_count": null,
      "outputs": []
    },
    {
      "cell_type": "code",
      "source": [
        "#while loop\n",
        "i = 2\n",
        "while i<=5:\n",
        "  print(i)\n",
        "  i=i+1\n"
      ],
      "metadata": {
        "id": "c7tVygXp2e-N"
      },
      "execution_count": null,
      "outputs": []
    },
    {
      "cell_type": "code",
      "source": [
        "#multiplicatoon\n",
        "num = int(input(\"enter the table number\"))\n",
        "i = 1\n",
        "while i<=10:\n",
        "  print(i*num)\n",
        "  i=i+1\n"
      ],
      "metadata": {
        "colab": {
          "base_uri": "https://localhost:8080/"
        },
        "id": "7JZ9BtT83B6t",
        "outputId": "f30dc3c6-6f9d-4200-c7ce-5c59f9cd0bc2"
      },
      "execution_count": 15,
      "outputs": [
        {
          "output_type": "stream",
          "name": "stdout",
          "text": [
            "enter the table number5\n",
            "5\n",
            "10\n",
            "15\n",
            "20\n",
            "25\n",
            "30\n",
            "35\n",
            "40\n",
            "45\n",
            "50\n"
          ]
        }
      ]
    },
    {
      "cell_type": "code",
      "source": [
        "#for loop\n",
        "for i in \"Radikaiiii\":\n",
        "  print(\"hihi\")\n",
        "\n",
        "for i in [10,20,40]:\n",
        "  print(i*3)\n"
      ],
      "metadata": {
        "colab": {
          "base_uri": "https://localhost:8080/"
        },
        "id": "mMWCF2aF5myc",
        "outputId": "e3c1ed3d-7605-4851-f20c-a00a178de545"
      },
      "execution_count": 19,
      "outputs": [
        {
          "output_type": "stream",
          "name": "stdout",
          "text": [
            "hihi\n",
            "hihi\n",
            "hihi\n",
            "hihi\n",
            "hihi\n",
            "hihi\n",
            "hihi\n",
            "hihi\n",
            "hihi\n",
            "hihi\n",
            "30\n",
            "60\n",
            "120\n"
          ]
        }
      ]
    },
    {
      "cell_type": "code",
      "source": [
        "from typing import Counter\n",
        "v=['a','e','i','o','u']\n",
        "string=input(\"enter your string:\")\n",
        "counter= 0\n",
        "\n",
        "for i in string:\n",
        "  if i in v:\n",
        "    counter = counter +1\n",
        "print(counter)"
      ],
      "metadata": {
        "id": "BEnC9tYw6kZO"
      },
      "execution_count": null,
      "outputs": []
    },
    {
      "cell_type": "code",
      "source": [
        "#reverse string using slicing\n",
        "#palindrome"
      ],
      "metadata": {
        "id": "r1R3WIKV79bp"
      },
      "execution_count": null,
      "outputs": []
    },
    {
      "cell_type": "code",
      "source": [
        "s = \"malayalam\"\n",
        "print(s[::-1])\n"
      ],
      "metadata": {
        "id": "rfTuNe3jpOkT",
        "outputId": "b862ce24-1e3d-4869-8ba2-11eb5cabce26",
        "colab": {
          "base_uri": "https://localhost:8080/"
        }
      },
      "execution_count": 1,
      "outputs": [
        {
          "output_type": "stream",
          "name": "stdout",
          "text": [
            "malayalam\n"
          ]
        }
      ]
    },
    {
      "cell_type": "code",
      "source": [
        "string=(input(\"enter any word and check whether it is palindrome or not\"))\n",
        "print(string[::-1])"
      ],
      "metadata": {
        "id": "EBgd7ZdtpyBp",
        "outputId": "f1b2ab71-2eff-48e6-d989-99198e290552",
        "colab": {
          "base_uri": "https://localhost:8080/"
        }
      },
      "execution_count": 6,
      "outputs": [
        {
          "output_type": "stream",
          "name": "stdout",
          "text": [
            "enter any word and check whether it is palindrome or nottop\n",
            "pot\n"
          ]
        }
      ]
    },
    {
      "cell_type": "code",
      "source": [
        "s=input(\"enter any string\")\n",
        "if s==s[::-1]:\n",
        "  print(\"yes!it is palindrome\")\n",
        "else:\n",
        "  print(\"no\")"
      ],
      "metadata": {
        "id": "V-DnnmHwrJUP",
        "outputId": "f3cdbdb9-f097-400e-a6b8-a54e9d73b312",
        "colab": {
          "base_uri": "https://localhost:8080/"
        }
      },
      "execution_count": 10,
      "outputs": [
        {
          "name": "stdout",
          "output_type": "stream",
          "text": [
            "enter any stringhi\n"
          ]
        }
      ]
    }
  ]
}