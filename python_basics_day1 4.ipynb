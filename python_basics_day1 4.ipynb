{
  "nbformat": 4,
  "nbformat_minor": 0,
  "metadata": {
    "colab": {
      "provenance": []
    },
    "kernelspec": {
      "name": "python3",
      "display_name": "Python 3"
    },
    "language_info": {
      "name": "python"
    }
  },
  "cells": [
    {
      "cell_type": "code",
      "execution_count": null,
      "metadata": {
        "colab": {
          "base_uri": "https://localhost:8080/",
          "height": 141
        },
        "id": "fooBKl8FmcO4",
        "outputId": "2c2d67e8-e943-4afd-d46b-1b04919f4960"
      },
      "outputs": [
        {
          "output_type": "error",
          "ename": "NameError",
          "evalue": "name 'prit' is not defined",
          "traceback": [
            "\u001b[0;31m---------------------------------------------------------------------------\u001b[0m",
            "\u001b[0;31mNameError\u001b[0m                                 Traceback (most recent call last)",
            "\u001b[0;32m<ipython-input-3-db6dda56cc4d>\u001b[0m in \u001b[0;36m<cell line: 0>\u001b[0;34m()\u001b[0m\n\u001b[0;32m----> 1\u001b[0;31m \u001b[0mprit\u001b[0m\u001b[0;34m(\u001b[0m\u001b[0;34m\"welcome to Python world\"\u001b[0m\u001b[0;34m)\u001b[0m\u001b[0;34m\u001b[0m\u001b[0;34m\u001b[0m\u001b[0m\n\u001b[0m",
            "\u001b[0;31mNameError\u001b[0m: name 'prit' is not defined"
          ]
        }
      ],
      "source": [
        "prit(\"welcome to Python world\")"
      ]
    },
    {
      "cell_type": "code",
      "source": [
        "print(\"radhika\")"
      ],
      "metadata": {
        "id": "EIcFCol4oS9y",
        "outputId": "c5d981b7-e50d-4f99-9da6-9b35f749adb9",
        "colab": {
          "base_uri": "https://localhost:8080/"
        }
      },
      "execution_count": null,
      "outputs": [
        {
          "output_type": "stream",
          "name": "stdout",
          "text": [
            "radhika\n"
          ]
        }
      ]
    },
    {
      "cell_type": "code",
      "source": [
        "a=10\n",
        "print(a)\n",
        "print(\"a=\", id(a))\n",
        "a=\"ajju\"\n",
        "print(a)\n",
        "print(id(a))\n",
        "\n",
        "#delete variable\n",
        "\n",
        "a=40\n",
        "print(a)\n",
        "\n",
        "del a\n"
      ],
      "metadata": {
        "id": "456iibnZml4b"
      },
      "execution_count": null,
      "outputs": []
    },
    {
      "cell_type": "code",
      "source": [
        "#anotation\n",
        "a:int = 10\n",
        "print(a)\n",
        "print(__annotations__['a'])"
      ],
      "metadata": {
        "id": "EyYtE0f-_zVO",
        "outputId": "a1ec511c-9cdd-4c69-a423-e34e92aef934",
        "colab": {
          "base_uri": "https://localhost:8080/"
        }
      },
      "execution_count": null,
      "outputs": [
        {
          "output_type": "stream",
          "name": "stdout",
          "text": [
            "10\n",
            "<class 'int'>\n"
          ]
        }
      ]
    },
    {
      "cell_type": "code",
      "source": [
        "#string slicing #positive indexing\n",
        "s=\"bangalore\"\n",
        "print(s[::])"
      ],
      "metadata": {
        "id": "GC8iQJN6N9eh",
        "outputId": "8d2c2663-d96f-4e24-a393-e254421577d1",
        "colab": {
          "base_uri": "https://localhost:8080/"
        }
      },
      "execution_count": null,
      "outputs": [
        {
          "output_type": "stream",
          "name": "stdout",
          "text": [
            "bangalore\n"
          ]
        }
      ]
    },
    {
      "cell_type": "code",
      "source": [
        "#negative indexing add +1 ie., -1:-3:0 and -1:-7:-1\n",
        "s=\"bangalore\"\n",
        "print(s[-1:-4:-1])\n",
        "print(s[-1:-8:-2])\n",
        "print(s[-2:-6:2])#positive indexing left to right starts frm -2 so no o/p  #positive indexing left to right for 2 and 3 parameter subtract -1\n",
        "print(s[-1::-1])"
      ],
      "metadata": {
        "id": "y-KQyw97SutA",
        "outputId": "fd70b16e-a86c-4ddc-e3f0-99f7263558e1",
        "colab": {
          "base_uri": "https://localhost:8080/"
        }
      },
      "execution_count": null,
      "outputs": [
        {
          "output_type": "stream",
          "name": "stdout",
          "text": [
            "ero\n",
            "eoan\n",
            "\n",
            "erolagnab\n"
          ]
        }
      ]
    },
    {
      "cell_type": "code",
      "source": [],
      "metadata": {
        "id": "IMFCMJEniNax"
      },
      "execution_count": null,
      "outputs": []
    },
    {
      "cell_type": "code",
      "source": [
        "string=\"Hello,world!\"\n",
        "print(string[7:12])\n",
        "print(string[-6:-1])"
      ],
      "metadata": {
        "id": "1q1w6s_7V18Q",
        "outputId": "b742a3cb-650f-448f-87cb-82765681dc52",
        "colab": {
          "base_uri": "https://localhost:8080/"
        }
      },
      "execution_count": null,
      "outputs": [
        {
          "output_type": "stream",
          "name": "stdout",
          "text": [
            "orld!\n",
            "world\n"
          ]
        }
      ]
    },
    {
      "cell_type": "code",
      "source": [
        "string = \"Python is fun!\"\n",
        "print(string[-1:-7:-2])"
      ],
      "metadata": {
        "id": "D36GDV6DiOGx",
        "outputId": "bbb294b5-af92-4891-f7bc-984b74e0df3b",
        "colab": {
          "base_uri": "https://localhost:8080/"
        }
      },
      "execution_count": 2,
      "outputs": [
        {
          "output_type": "stream",
          "name": "stdout",
          "text": [
            "!u \n"
          ]
        }
      ]
    },
    {
      "cell_type": "code",
      "source": [
        "#decision making-- day 3\n",
        "#simple if\n",
        "\n",
        "if 1>5:\n",
        "  print(\"10 is greater than 5\")\n",
        "print(\"outside if block\")\n"
      ],
      "metadata": {
        "id": "fucEl3ZpnAXe",
        "outputId": "3fbbcd48-57ec-4976-dc62-0a24409efc20",
        "colab": {
          "base_uri": "https://localhost:8080/"
        }
      },
      "execution_count": 7,
      "outputs": [
        {
          "output_type": "stream",
          "name": "stdout",
          "text": [
            "outside if block\n"
          ]
        }
      ]
    },
    {
      "cell_type": "code",
      "source": [
        "#input stmt\n",
        "name=input(\"enter ur name\")\n",
        "print(\"ur name is\", name)\n"
      ],
      "metadata": {
        "id": "U4RLiwd9pTL9",
        "outputId": "1685484c-20f5-4b40-fa56-315765d32018",
        "colab": {
          "base_uri": "https://localhost:8080/"
        }
      },
      "execution_count": 8,
      "outputs": [
        {
          "output_type": "stream",
          "name": "stdout",
          "text": [
            "enter ur numberradhika\n",
            "ur name is radhika\n"
          ]
        }
      ]
    },
    {
      "cell_type": "code",
      "source": [
        "n1=int(input(\"enter ur 1 number\"))\n",
        "n2=int(input(\"enter ur 2 number\"))\n",
        "#print(n1+n2)\n",
        "if (n1>n2):\n",
        "  print(\"n1 is greater\")"
      ],
      "metadata": {
        "id": "Oq-J6zM_qDqx",
        "outputId": "25e0e06b-e55c-44f6-bfac-370e1dd0e8f9",
        "colab": {
          "base_uri": "https://localhost:8080/"
        }
      },
      "execution_count": 11,
      "outputs": [
        {
          "output_type": "stream",
          "name": "stdout",
          "text": [
            "enter ur 1 number15\n",
            "enter ur 2 number6\n",
            "n1 is greater\n"
          ]
        }
      ]
    },
    {
      "cell_type": "code",
      "source": [
        "age=int(input(\"enter ur age\"))\n",
        "if age >= 18 :\n",
        "  print(\"welcome to vote\")\n",
        "  print(\"you can vote\")\n",
        "else:\n",
        "  print(\"you cannot vote\")\n",
        "print(\"thank u\")#\n",
        "\n",
        "marks=int(input(\"enter your marks\"))\n",
        "if marks >=35 :\n",
        "  print(\"you are passed\")\n",
        "else:\n",
        "  print(\"you are fail\")\n",
        "print(\"thank you\")"
      ],
      "metadata": {
        "id": "jWjKOtrLrtA_"
      },
      "execution_count": null,
      "outputs": []
    },
    {
      "cell_type": "code",
      "source": [
        "#if elif else\n",
        "grade = int(input(\"enter your score\"))\n",
        "if  grade >= 90:\n",
        "  print(\"A grade\")\n",
        "elif grade >= 80:\n",
        "  print(\"B grade\")\n",
        "elif grade >= 50:\n",
        "  print(\"c grade\")\n",
        "\n",
        "else :\n",
        "  print(\"fail\")"
      ],
      "metadata": {
        "id": "tTKj149Ou5qQ"
      },
      "execution_count": null,
      "outputs": []
    }
  ]
}