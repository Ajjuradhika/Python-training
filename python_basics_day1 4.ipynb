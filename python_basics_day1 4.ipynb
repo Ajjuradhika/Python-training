{
  "nbformat": 4,
  "nbformat_minor": 0,
  "metadata": {
    "colab": {
      "provenance": []
    },
    "kernelspec": {
      "name": "python3",
      "display_name": "Python 3"
    },
    "language_info": {
      "name": "python"
    }
  },
  "cells": [
    {
      "cell_type": "code",
      "execution_count": null,
      "metadata": {
        "colab": {
          "base_uri": "https://localhost:8080/",
          "height": 141
        },
        "id": "fooBKl8FmcO4",
        "outputId": "2c2d67e8-e943-4afd-d46b-1b04919f4960"
      },
      "outputs": [
        {
          "output_type": "error",
          "ename": "NameError",
          "evalue": "name 'prit' is not defined",
          "traceback": [
            "\u001b[0;31m---------------------------------------------------------------------------\u001b[0m",
            "\u001b[0;31mNameError\u001b[0m                                 Traceback (most recent call last)",
            "\u001b[0;32m<ipython-input-3-db6dda56cc4d>\u001b[0m in \u001b[0;36m<cell line: 0>\u001b[0;34m()\u001b[0m\n\u001b[0;32m----> 1\u001b[0;31m \u001b[0mprit\u001b[0m\u001b[0;34m(\u001b[0m\u001b[0;34m\"welcome to Python world\"\u001b[0m\u001b[0;34m)\u001b[0m\u001b[0;34m\u001b[0m\u001b[0;34m\u001b[0m\u001b[0m\n\u001b[0m",
            "\u001b[0;31mNameError\u001b[0m: name 'prit' is not defined"
          ]
        }
      ],
      "source": [
        "prit(\"welcome to Python world\")"
      ]
    },
    {
      "cell_type": "code",
      "source": [
        "print(\"radhika\")"
      ],
      "metadata": {
        "id": "EIcFCol4oS9y",
        "outputId": "c5d981b7-e50d-4f99-9da6-9b35f749adb9",
        "colab": {
          "base_uri": "https://localhost:8080/"
        }
      },
      "execution_count": null,
      "outputs": [
        {
          "output_type": "stream",
          "name": "stdout",
          "text": [
            "radhika\n"
          ]
        }
      ]
    },
    {
      "cell_type": "code",
      "source": [
        "a=10\n",
        "print(a)\n",
        "print(\"a=\", id(a))\n",
        "a=\"ajju\"\n",
        "print(a)\n",
        "print(id(a))\n",
        "\n",
        "#delete variable\n",
        "\n",
        "a=40\n",
        "print(a)\n",
        "\n",
        "del a\n"
      ],
      "metadata": {
        "id": "456iibnZml4b"
      },
      "execution_count": null,
      "outputs": []
    },
    {
      "cell_type": "code",
      "source": [
        "#anotation\n",
        "a:int = 10\n",
        "print(a)\n",
        "print(__annotations__['a'])"
      ],
      "metadata": {
        "id": "EyYtE0f-_zVO",
        "outputId": "a1ec511c-9cdd-4c69-a423-e34e92aef934",
        "colab": {
          "base_uri": "https://localhost:8080/"
        }
      },
      "execution_count": 9,
      "outputs": [
        {
          "output_type": "stream",
          "name": "stdout",
          "text": [
            "10\n",
            "<class 'int'>\n"
          ]
        }
      ]
    },
    {
      "cell_type": "code",
      "source": [
        "#string slicing #positive indexing\n",
        "s=\"bangalore\"\n",
        "print(s[::])"
      ],
      "metadata": {
        "id": "GC8iQJN6N9eh",
        "outputId": "8d2c2663-d96f-4e24-a393-e254421577d1",
        "colab": {
          "base_uri": "https://localhost:8080/"
        }
      },
      "execution_count": 10,
      "outputs": [
        {
          "output_type": "stream",
          "name": "stdout",
          "text": [
            "bangalore\n"
          ]
        }
      ]
    },
    {
      "cell_type": "code",
      "source": [
        "#negative indexing add +1 ie., -1:-3:0 and -1:-7:-1\n",
        "s=\"bangalore\"\n",
        "print(s[-1:-4:-1])\n",
        "print(s[-1:-8:-2])\n",
        "print(s[-2:-6:2])#positive indexing left to right startes frm -2 so no o/p  #positive indexing left to right for 2 and 3 parameter subtract -1\n",
        "print(s[-1::-1])"
      ],
      "metadata": {
        "id": "y-KQyw97SutA",
        "outputId": "fd70b16e-a86c-4ddc-e3f0-99f7263558e1",
        "colab": {
          "base_uri": "https://localhost:8080/"
        }
      },
      "execution_count": 14,
      "outputs": [
        {
          "output_type": "stream",
          "name": "stdout",
          "text": [
            "ero\n",
            "eoan\n",
            "\n",
            "erolagnab\n"
          ]
        }
      ]
    },
    {
      "cell_type": "code",
      "source": [
        "string=\"Hello,world!\"\n",
        "print(string[7:12])\n",
        "print(string[-6:-1])"
      ],
      "metadata": {
        "id": "1q1w6s_7V18Q",
        "outputId": "b742a3cb-650f-448f-87cb-82765681dc52",
        "colab": {
          "base_uri": "https://localhost:8080/"
        }
      },
      "execution_count": 19,
      "outputs": [
        {
          "output_type": "stream",
          "name": "stdout",
          "text": [
            "orld!\n",
            "world\n"
          ]
        }
      ]
    }
  ]
}